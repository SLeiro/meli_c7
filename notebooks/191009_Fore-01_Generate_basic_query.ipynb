{
 "cells": [
  {
   "cell_type": "markdown",
   "metadata": {},
   "source": [
    "# Fore-01 Generate basic query\n",
    "\n",
    "El objetivo de este notebook es testear la query definida para descargar los datos básicos necesarios para los experimentos de forecasting de multiwarehouse. Específicamente nos interesa obtener todas las compras de un sitio dado (por ejemplo, MLB) y en un rango de fechas, y de ellas el día y hora de pago de la compra, el item comprado, la cantidad de items iguales y el destino del envío (si la compra se realizó con Mercado Envíos, de lo contrario, el campo queda nulo)."
   ]
  },
  {
   "cell_type": "markdown",
   "metadata": {},
   "source": [
    "## Importaciones y definiciones"
   ]
  },
  {
   "cell_type": "code",
   "execution_count": 1,
   "metadata": {},
   "outputs": [],
   "source": [
    "import os\n",
    "\n",
    "from datetime import datetime\n",
    "from pathlib import Path\n",
    "\n",
    "from ml_forecasting.etl.base import ExperimentDataSource\n",
    "from ml_forecasting.etl.dataset import DataPreparation\n",
    "from ml_forecasting.config import CONFIGS_BY_SITE, train_dtypes"
   ]
  },
  {
   "cell_type": "code",
   "execution_count": 2,
   "metadata": {},
   "outputs": [],
   "source": [
    "# parameters\n",
    "data_root = Path.home().joinpath('/alloc/data/fury_ml-forecasting/etl/raw_data/')\n",
    "site = 'MLB'\n",
    "teradata_user = os.environ['SECRET_TERADATA_USER']\n",
    "teradata_pass = os.environ['SECRET_TERADATA_PASS']"
   ]
  },
  {
   "cell_type": "markdown",
   "metadata": {},
   "source": [
    "## Desarrollo\n",
    "\n",
    "En primer lugar definimos el período de tiempo de compras que queremos descargar y chequeamos si el path donde vamos a guardar la información existe:"
   ]
  },
  {
   "cell_type": "code",
   "execution_count": 3,
   "metadata": {},
   "outputs": [],
   "source": [
    "start_download = datetime.strptime('2019-09-07', '%Y-%m-%d')\n",
    "end_download = datetime.strptime('2019-09-14', '%Y-%m-%d')"
   ]
  },
  {
   "cell_type": "code",
   "execution_count": 4,
   "metadata": {},
   "outputs": [],
   "source": [
    "data_root.mkdir(exist_ok=True)"
   ]
  },
  {
   "cell_type": "markdown",
   "metadata": {},
   "source": [
    "Descargamos los datos empleando la query definida en `ml_forecasting.etl.base`:"
   ]
  },
  {
   "cell_type": "code",
   "execution_count": 5,
   "metadata": {},
   "outputs": [],
   "source": [
    "source = ExperimentDataSource(teradata_user, teradata_pass, data_root, site)\n",
    "files = source.csvfiles(start_download, end_download, delta=(end_download - start_download).days)"
   ]
  },
  {
   "cell_type": "code",
   "execution_count": 6,
   "metadata": {},
   "outputs": [
    {
     "name": "stdout",
     "output_type": "stream",
     "text": [
      "* /alloc/data/fury_ml-forecasting/etl/raw_data/experimentdatasource-MLB-20190907-20190914/Fore_MLB_20190907.csv\n"
     ]
    }
   ],
   "source": [
    "for f in files:\n",
    "    print('*', f)"
   ]
  },
  {
   "cell_type": "markdown",
   "metadata": {},
   "source": [
    "Tenemos todos los datos guardados en el archivo, ahora vamos a llamar a `DataPreparation` del módulo `ml_forecasting.etl.dataset` para cargar y preparar el dataframe:"
   ]
  },
  {
   "cell_type": "code",
   "execution_count": 7,
   "metadata": {},
   "outputs": [],
   "source": [
    "prep = DataPreparation(CONFIGS_BY_SITE[site])"
   ]
  },
  {
   "cell_type": "code",
   "execution_count": 8,
   "metadata": {},
   "outputs": [],
   "source": [
    "df = prep.load(files, cols=train_dtypes(CONFIGS_BY_SITE[site]))"
   ]
  },
  {
   "cell_type": "markdown",
   "metadata": {},
   "source": [
    "Veamos el tamaño y un ejemplo del dataframe resultante:"
   ]
  },
  {
   "cell_type": "code",
   "execution_count": 9,
   "metadata": {},
   "outputs": [
    {
     "data": {
      "text/plain": [
       "(3392551, 9)"
      ]
     },
     "execution_count": 9,
     "metadata": {},
     "output_type": "execute_result"
    }
   ],
   "source": [
    "df.shape"
   ]
  },
  {
   "cell_type": "code",
   "execution_count": 10,
   "metadata": {},
   "outputs": [
    {
     "data": {
      "text/html": [
       "<div>\n",
       "<style scoped>\n",
       "    .dataframe tbody tr th:only-of-type {\n",
       "        vertical-align: middle;\n",
       "    }\n",
       "\n",
       "    .dataframe tbody tr th {\n",
       "        vertical-align: top;\n",
       "    }\n",
       "\n",
       "    .dataframe thead th {\n",
       "        text-align: right;\n",
       "    }\n",
       "</style>\n",
       "<table border=\"1\" class=\"dataframe\">\n",
       "  <thead>\n",
       "    <tr style=\"text-align: right;\">\n",
       "      <th></th>\n",
       "      <th>ord_order_id</th>\n",
       "      <th>ite_item_id</th>\n",
       "      <th>tim_day_winning_date</th>\n",
       "      <th>tim_time_winning_date</th>\n",
       "      <th>bid_quantity_ok</th>\n",
       "      <th>shp_shipment_id</th>\n",
       "      <th>receiver_shp_add_city_id</th>\n",
       "      <th>receiver_shp_add_state_id</th>\n",
       "      <th>receiver_shp_add_zip_code</th>\n",
       "    </tr>\n",
       "  </thead>\n",
       "  <tbody>\n",
       "    <tr>\n",
       "      <th>1649649</th>\n",
       "      <td>2.143908e+09</td>\n",
       "      <td>1.158212e+09</td>\n",
       "      <td>2019-09-10</td>\n",
       "      <td>142828</td>\n",
       "      <td>1</td>\n",
       "      <td>28096206293</td>\n",
       "      <td>TUxCQ0ZPUjM5MmFh</td>\n",
       "      <td>BR-CE</td>\n",
       "      <td>60181825</td>\n",
       "    </tr>\n",
       "    <tr>\n",
       "      <th>392895</th>\n",
       "      <td>2.141575e+09</td>\n",
       "      <td>1.237951e+09</td>\n",
       "      <td>2019-09-10</td>\n",
       "      <td>75401</td>\n",
       "      <td>1</td>\n",
       "      <td>28094272476</td>\n",
       "      <td>BR-SP-44</td>\n",
       "      <td>BR-SP</td>\n",
       "      <td>04080004</td>\n",
       "    </tr>\n",
       "    <tr>\n",
       "      <th>2485686</th>\n",
       "      <td>2.141060e+09</td>\n",
       "      <td>1.183554e+09</td>\n",
       "      <td>2019-09-07</td>\n",
       "      <td>202421</td>\n",
       "      <td>1</td>\n",
       "      <td>28093802580</td>\n",
       "      <td>TUxCQ0lTUjZmODQ5</td>\n",
       "      <td>BR-GO</td>\n",
       "      <td>76205000</td>\n",
       "    </tr>\n",
       "    <tr>\n",
       "      <th>3353072</th>\n",
       "      <td>2.146044e+09</td>\n",
       "      <td>1.221209e+09</td>\n",
       "      <td>2019-09-12</td>\n",
       "      <td>125058</td>\n",
       "      <td>1</td>\n",
       "      <td>NaN</td>\n",
       "      <td>NaN</td>\n",
       "      <td>NaN</td>\n",
       "      <td>NaN</td>\n",
       "    </tr>\n",
       "    <tr>\n",
       "      <th>2240736</th>\n",
       "      <td>2.141878e+09</td>\n",
       "      <td>8.521760e+08</td>\n",
       "      <td>2019-09-08</td>\n",
       "      <td>214242</td>\n",
       "      <td>1</td>\n",
       "      <td>28094501250</td>\n",
       "      <td>TUxCQ1RBUTZjYjVk</td>\n",
       "      <td>BR-RS</td>\n",
       "      <td>95860000</td>\n",
       "    </tr>\n",
       "  </tbody>\n",
       "</table>\n",
       "</div>"
      ],
      "text/plain": [
       "         ord_order_id   ite_item_id tim_day_winning_date  \\\n",
       "1649649  2.143908e+09  1.158212e+09           2019-09-10   \n",
       "392895   2.141575e+09  1.237951e+09           2019-09-10   \n",
       "2485686  2.141060e+09  1.183554e+09           2019-09-07   \n",
       "3353072  2.146044e+09  1.221209e+09           2019-09-12   \n",
       "2240736  2.141878e+09  8.521760e+08           2019-09-08   \n",
       "\n",
       "         tim_time_winning_date  bid_quantity_ok shp_shipment_id  \\\n",
       "1649649                 142828                1     28096206293   \n",
       "392895                   75401                1     28094272476   \n",
       "2485686                 202421                1     28093802580   \n",
       "3353072                 125058                1             NaN   \n",
       "2240736                 214242                1     28094501250   \n",
       "\n",
       "        receiver_shp_add_city_id receiver_shp_add_state_id  \\\n",
       "1649649         TUxCQ0ZPUjM5MmFh                     BR-CE   \n",
       "392895                  BR-SP-44                     BR-SP   \n",
       "2485686         TUxCQ0lTUjZmODQ5                     BR-GO   \n",
       "3353072                      NaN                       NaN   \n",
       "2240736         TUxCQ1RBUTZjYjVk                     BR-RS   \n",
       "\n",
       "        receiver_shp_add_zip_code  \n",
       "1649649                  60181825  \n",
       "392895                   04080004  \n",
       "2485686                  76205000  \n",
       "3353072                       NaN  \n",
       "2240736                  95860000  "
      ]
     },
     "execution_count": 10,
     "metadata": {},
     "output_type": "execute_result"
    }
   ],
   "source": [
    "df.sample(5)"
   ]
  },
  {
   "cell_type": "markdown",
   "metadata": {},
   "source": [
    "Por último, podemos comparar la cantidad de SI (items vendidos) que obtenemos a partir de la query generada con los datos registrados en el [dashboard de PortalBI](http://portalbi.ml.com/#/business_unit/2/dashboards/67) (en este caso, 4021412 SI):"
   ]
  },
  {
   "cell_type": "code",
   "execution_count": 11,
   "metadata": {},
   "outputs": [
    {
     "name": "stdout",
     "output_type": "stream",
     "text": [
      "Cantidad de SI descargados en la query: 4021709\n"
     ]
    }
   ],
   "source": [
    "SI_query = df.bid_quantity_ok.sum()\n",
    "print(\"Cantidad de SI descargados en la query: {}\".format(SI_query))"
   ]
  },
  {
   "cell_type": "code",
   "execution_count": 12,
   "metadata": {},
   "outputs": [
    {
     "name": "stdout",
     "output_type": "stream",
     "text": [
      "Porcentaje de diferencia entre la query y el dashboard de BI: 0.007%\n"
     ]
    }
   ],
   "source": [
    "SI_BI = 4021412\n",
    "print(\"Porcentaje de diferencia entre la query y el dashboard de BI: {:.3f}%\".format((SI_query-SI_BI)/SI_BI*100))"
   ]
  },
  {
   "cell_type": "markdown",
   "metadata": {},
   "source": [
    "Podemos ver que la diferencia es menor al 0.01%, por lo cual asumimos que la query generada es correcta y se obtienen todas las compras realizadas en el período de interés."
   ]
  },
  {
   "cell_type": "markdown",
   "metadata": {},
   "source": [
    "## Conclusión\n",
    "\n",
    "El objetivo de este notebook era testear la query definida para descargar los datos básicos necesarios para los experimentos de forecasting de multiwarehouse. Utilizando la query definida en `ml_forecasting.etl.base` pudimos descargar los datos de interés de las compras de MLB para un rango de fechas (fecha de compra, item_id, número de items en la compra y dirección de destino del envío). Por otra parte, con la clase `DataPreparation` definida en `ml_forecasting.etl.dataset` pudimos cargar y preparar el dataframe. De esta manera, seteamos las bases (query y preparación de datos) para poder obtener los datos a utilizar en los futuros análisis de forecasting."
   ]
  }
 ],
 "metadata": {
  "kernelspec": {
   "display_name": "Python 3",
   "language": "python",
   "name": "python3"
  },
  "language_info": {
   "codemirror_mode": {
    "name": "ipython",
    "version": 3
   },
   "file_extension": ".py",
   "mimetype": "text/x-python",
   "name": "python",
   "nbconvert_exporter": "python",
   "pygments_lexer": "ipython3",
   "version": "3.5.4"
  }
 },
 "nbformat": 4,
 "nbformat_minor": 2
}
