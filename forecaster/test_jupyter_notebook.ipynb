{
 "cells": [
  {
   "cell_type": "code",
   "execution_count": 1,
   "metadata": {
    "pycharm": {
     "is_executing": false
    }
   },
   "outputs": [],
   "source": [
    "import numpy as np\n",
    "from sklearn.base import BaseEstimator"
   ]
  },
  {
   "cell_type": "code",
   "execution_count": 2,
   "metadata": {
    "pycharm": {
     "is_executing": false
    }
   },
   "outputs": [],
   "source": [
    "data_input = np.sin(np.arange(0,stop=360)*6*np.pi/360)"
   ]
  },
  {
   "cell_type": "code",
   "execution_count": 3,
   "metadata": {
    "pycharm": {
     "is_executing": false
    }
   },
   "outputs": [],
   "source": [
    "number_of_periods = len(data_input)\n",
    "periods_to_fit = 180\n",
    "periods_to_predict = 60\n",
    "spread = 7  # number of periods to skip to run succesive forecasts\n",
    "\n",
    "total_number_of_tests = int((number_of_periods - periods_to_fit - periods_to_predict) / spread)"
   ]
  },
  {
   "cell_type": "code",
   "execution_count": 4,
   "metadata": {
    "pycharm": {
     "is_executing": false
    }
   },
   "outputs": [],
   "source": [
    "class NaiveLV(BaseEstimator):\n",
    "    def __init__(self, lag):\n",
    "        self.lag = lag\n",
    "    \n",
    "    def fit(self, X, N):\n",
    "        self.N = N\n",
    "        self.X = X\n",
    "        length = len(X)\n",
    "        self.forecast = np.zeros((length+self.N,))\n",
    "\n",
    "        if length < self.lag:\n",
    "            print('Naive LV: Not enough data')\n",
    "            return False\n",
    "\n",
    "        for i in range(0, length+ self.N):\n",
    "            if i >= self.lag:\n",
    "                # ex-post\n",
    "                if i <= length + self.lag - 1:\n",
    "                    self.forecast[i] = X[i - self.lag]\n",
    "                # ex-ante\n",
    "                else:\n",
    "                    self.forecast[i] = self.forecast[i - 1]\n",
    "\n",
    "        return self\n",
    "\n",
    "    \n",
    "    def predict(self, first_date):\n",
    "        return self.forecast[first_date:]\n"
   ]
  },
  {
   "cell_type": "code",
   "execution_count": 5,
   "metadata": {
    "pycharm": {
     "is_executing": false
    }
   },
   "outputs": [
    {
     "name": "stdout",
     "text": [
      "1004.6781991496473\n-155.69918486605604\n-74.53764551680847\n-77.30475437878515\n-96.0172759371218\n-118.45398080474652\n-145.77037454701662\n-190.28948811650457\n-326.9738831805186\n656.020563424303\n97.35338319563493\n72.14428343396321\n84.43155917716449\n105.22365628682972\n129.21725349692798\n161.2720474902715\n225.36156771038634\n"
     ],
     "output_type": "stream"
    }
   ],
   "source": [
    "naive_lv = NaiveLV(7)\n",
    "wapes = []\n",
    "\n",
    "for iteration in range(total_number_of_tests):\n",
    "    start_fit = iteration*spread\n",
    "    end_fit = start_fit + periods_to_fit\n",
    "    end_predict = end_fit + 1 + periods_to_predict\n",
    "    \n",
    "    X = data_input[start_fit:end_fit]\n",
    "    y = data_input[end_fit+1:end_predict]\n",
    "    \n",
    "    y_predict = naive_lv.fit(X, periods_to_predict).predict(periods_to_fit)\n",
    "    wape = 100 * np.sum(abs(y - y_predict)) / np.sum(y_predict)\n",
    "    print(wape)\n",
    "    wapes.append(wape)"
   ]
  },
  {
   "cell_type": "code",
   "execution_count": 6,
   "metadata": {
    "pycharm": {
     "is_executing": false
    }
   },
   "outputs": [
    {
     "name": "stdout",
     "text": [
      "79.45034858926886\n"
     ],
     "output_type": "stream"
    }
   ],
   "source": [
    "print(np.mean(wapes))"
   ]
  }
 ],
 "metadata": {
  "kernelspec": {
   "display_name": "Python 3",
   "language": "python",
   "name": "python3"
  },
  "language_info": {
   "codemirror_mode": {
    "name": "ipython",
    "version": 3
   },
   "file_extension": ".py",
   "mimetype": "text/x-python",
   "name": "python",
   "nbconvert_exporter": "python",
   "pygments_lexer": "ipython3",
   "version": "3.7.3"
  },
  "pycharm": {
   "stem_cell": {
    "cell_type": "raw",
    "source": [],
    "metadata": {
     "collapsed": false
    }
   }
  }
 },
 "nbformat": 4,
 "nbformat_minor": 2
}